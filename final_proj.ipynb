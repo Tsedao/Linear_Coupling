{
 "cells": [
  {
   "cell_type": "code",
   "execution_count": 3,
   "metadata": {},
   "outputs": [],
   "source": [
    "import numpy as np\n",
    "import matplotlib.pyplot as plt\n"
   ]
  },
  {
   "cell_type": "code",
   "execution_count": 4,
   "metadata": {},
   "outputs": [],
   "source": [
    "np.random.seed(42)"
   ]
  },
  {
   "cell_type": "code",
   "execution_count": 5,
   "metadata": {},
   "outputs": [],
   "source": [
    "def least_square_gd(X, y, beta_init, gt, lr=0.001, iters=1000):\n",
    "    \"\"\"GD for least square: f(beta) = 1/2 * ||y - X @ beta||^2\n",
    "    update rule:\n",
    "        beta_k+1 = beta_k - lr * grad\n",
    "    \"\"\"\n",
    "    res_list = []\n",
    "    beta = beta_init\n",
    "    for _ in range(iters):\n",
    "        grad = X.T @ (X @ beta - y)\n",
    "        beta = beta - lr * grad\n",
    "        res = np.linalg.norm(beta - gt) / np.linalg.norm(gt)\n",
    "        res_list.append(res)\n",
    "    return beta, res_list\n"
   ]
  },
  {
   "cell_type": "code",
   "execution_count": 6,
   "metadata": {},
   "outputs": [],
   "source": [
    "def least_square_adg(X, y, beta_init, gt, lr=0.001, iters=1000):\n",
    "    \"\"\"ADG for least square: f(beta) = 1/2 * ||y - X @ beta||^2\n",
    "    update rule:\n",
    "        x_k+1 = beta_k - lr * grad(beta_k)\n",
    "        beta_k+1 = x_{k+1}+ k-1/k+2 (x_{k+1}-x_{k})\n",
    "    \"\"\"\n",
    "    res_list = []\n",
    "    beta = beta_init\n",
    "    x = beta_init\n",
    "    for i in range(1, iters + 1):\n",
    "        grad = X.T @ (X @ beta - y)\n",
    "        next_x = beta - lr * grad \n",
    "        beta = next_x + (i - 1) / (i + 2) * (next_x - x)\n",
    "        x = next_x\n",
    "        res = np.linalg.norm(beta - gt) / np.linalg.norm(gt)\n",
    "        res_list.append(res)\n",
    "    return beta, res_list\n",
    "\n"
   ]
  },
  {
   "cell_type": "code",
   "execution_count": 7,
   "metadata": {},
   "outputs": [],
   "source": [
    "def least_square_md(X, y, beta_init, gt, lr=0.001, iters=1000):\n",
    "    \"\"\"MD for least square: f(beta) = 1/2 * ||y - X @ beta||^2\n",
    "    h(x) is the negative entropy function: h(x) = sum(x_i * log(x_i))\n",
    "    nabla h(x) = log(x) + 1\n",
    "    update rule:\n",
    "        nabla h(beta_k+1) = nabla h(beta_k) - lr * grad\n",
    "        beta_k+1 = exp(log(beta_k) - lr * grad)\n",
    "    \"\"\"\n",
    "    res_list = []\n",
    "    beta = beta_init\n",
    "    for _ in range(iters):\n",
    "        grad = X.T @ (X @ beta - y)\n",
    "        beta = np.exp( np.log(beta) - lr * grad)\n",
    "        res = np.linalg.norm(beta - gt) / np.linalg.norm(gt)\n",
    "        res_list.append(res)\n",
    "    return beta, res_list\n"
   ]
  },
  {
   "cell_type": "code",
   "execution_count": 8,
   "metadata": {},
   "outputs": [],
   "source": [
    "def least_square_linear_coupling(X, y, beta_init, gt, md_lr, gd_lr, tau, iters=1000):\n",
    "    \"\"\"Linear coupling (variable step size) for least square: f(beta) = 1/2 * ||y - X @ beta||^2\n",
    "    update rule:\n",
    "        q_k = GD(beta_k)\n",
    "        p_k = MD(beta_k)\n",
    "        beta_k+1 = tau * q_k + (1 - tau) * p_k\n",
    "    \"\"\"\n",
    "    res_list = []\n",
    "    beta = beta_init\n",
    "    for _ in range(iters):\n",
    "        grad = X.T @ (X @ beta - y)\n",
    "        q = beta - gd_lr * grad                     # gd update\n",
    "        p = beta / np.exp( md_lr * grad)   # md update\n",
    "        beta =  (1 - tau) * q + tau * p        # linear coupling\n",
    "        res = np.linalg.norm(beta - gt) / np.linalg.norm(gt)\n",
    "        res_list.append(res)\n",
    "    return beta, res_list"
   ]
  },
  {
   "cell_type": "code",
   "execution_count": 25,
   "metadata": {},
   "outputs": [],
   "source": [
    "def least_square_adaptive_linear_coupling(X, y, beta_init, gt, L, iters=1000):\n",
    "    \"\"\"Linear coupling (variable step size) for least square: f(beta) = 1/2 * ||y - X @ beta||^2\n",
    "    update rule:\n",
    "        q_k = GD(beta_k)\n",
    "        p_k = MD(beta_k)\n",
    "        beta_k+1 = tau * q_k + (1 - tau) * p_k\n",
    "    \"\"\"\n",
    "    res_list = []\n",
    "    beta = beta_init\n",
    "    p, q = beta_init, beta_init\n",
    "    for i in range(1, iters + 1):\n",
    "        md_lr =  0.2 * (i + 2) / (2 * L)    # we use 0.2 to downscale the stepsize in order for the algorithm to converge\n",
    "        gd_lr = 1 / L\n",
    "        tau = 2 / (i + 2)\n",
    "        beta = (1 - tau) * q + tau * p        # linear coupling\n",
    "        grad = X.T @ (X @ beta - y)\n",
    "        q = beta - gd_lr * grad               # gd update\n",
    "        p = beta / np.exp( md_lr * grad)      # md update\n",
    "        res = np.linalg.norm(beta - gt) / np.linalg.norm(gt)\n",
    "        res_list.append(res)\n",
    "    return beta, res_list\n"
   ]
  },
  {
   "cell_type": "code",
   "execution_count": 30,
   "metadata": {},
   "outputs": [],
   "source": [
    "n, m = 100, 100\n",
    "X = np.random.randn(n, m)\n",
    "X = (X + X.T) / 2\n",
    "beta = np.exp(np.random.randn(m))    ## ensure beta is positive, so we can use the negative entropy function for mirror descent\n",
    "y = X @ beta"
   ]
  },
  {
   "cell_type": "code",
   "execution_count": 31,
   "metadata": {},
   "outputs": [],
   "source": [
    "T = 1000\n",
    "init_beta = np.ones(m) / m\n",
    "L = np.linalg.norm(X, ord=2) ** 2    # get the Lipschitz constant for X.T @ (X @ beta - y) ||X||^2\n",
    "beta_gd, res_gd = least_square_gd(X, y, init_beta, beta, lr=1 / L, iters=T)"
   ]
  },
  {
   "cell_type": "code",
   "execution_count": 32,
   "metadata": {},
   "outputs": [],
   "source": [
    "beta_adg, res_adg = least_square_adg(X, y, init_beta, beta, lr=1 / L, iters=T)"
   ]
  },
  {
   "cell_type": "code",
   "execution_count": 33,
   "metadata": {},
   "outputs": [],
   "source": [
    "md_stepsize = 1 / L / np.sqrt(T)\n",
    "beta_md, res_md = least_square_md(X, y, init_beta, beta, lr=md_stepsize, iters=T)\n",
    "\n"
   ]
  },
  {
   "cell_type": "code",
   "execution_count": 34,
   "metadata": {},
   "outputs": [],
   "source": [
    "gd_lr = 1 / L\n",
    "md_lr = 1 / L / np.sqrt(T)\n",
    "tau = 0.1\n",
    "beta_lc, res_lc = least_square_linear_coupling(\n",
    "    X=X,\n",
    "    y=y, \n",
    "    beta_init=init_beta, \n",
    "    gt=beta, \n",
    "    md_lr=md_lr, \n",
    "    gd_lr=gd_lr, \n",
    "    tau=tau, \n",
    "    iters=T\n",
    ")"
   ]
  },
  {
   "cell_type": "code",
   "execution_count": 35,
   "metadata": {},
   "outputs": [],
   "source": [
    "beta_alc, res_alc = least_square_adaptive_linear_coupling(\n",
    "    X=X,\n",
    "    y=y, \n",
    "    beta_init=init_beta, \n",
    "    gt=beta, \n",
    "    L=L, \n",
    "    iters=T\n",
    ")"
   ]
  },
  {
   "cell_type": "code",
   "execution_count": 36,
   "metadata": {},
   "outputs": [
    {
     "data": {
      "text/plain": [
       "<matplotlib.legend.Legend at 0x7fd7e0507e20>"
      ]
     },
     "execution_count": 36,
     "metadata": {},
     "output_type": "execute_result"
    },
    {
     "data": {
      "image/png": "[encoded data removed]",
      "text/plain": [
       "<Figure size 432x288 with 1 Axes>"
      ]
     },
     "metadata": {
      "needs_background": "light"
     },
     "output_type": "display_data"
    }
   ],
   "source": [
    "plt.plot(res_gd, label='Gradient Descent')\n",
    "plt.plot(res_md, label='Mirror Descent')\n",
    "plt.plot(res_adg, label='Accelerated Gradient Descent')\n",
    "plt.plot(res_alc, label='Adaptive Linear Coupling')\n",
    "plt.grid()\n",
    "plt.title(f'Least Square Problem d={n}')\n",
    "plt.xlabel('Iteration')\n",
    "plt.ylabel('Relative Error')\n",
    "plt.legend()\n",
    "# plt.savefig(f'least_square_d={n}.png')\n"
   ]
  }
 ],
 "metadata": {
  "kernelspec": {
   "display_name": "Python 3",
   "language": "python",
   "name": "python3"
  },
  "language_info": {
   "codemirror_mode": {
    "name": "ipython",
    "version": 3
   },
   "file_extension": ".py",
   "mimetype": "text/x-python",
   "name": "python",
   "nbconvert_exporter": "python",
   "pygments_lexer": "ipython3",
   "version": "3.8.3"
  }
 },
 "nbformat": 4,
 "nbformat_minor": 2
}
